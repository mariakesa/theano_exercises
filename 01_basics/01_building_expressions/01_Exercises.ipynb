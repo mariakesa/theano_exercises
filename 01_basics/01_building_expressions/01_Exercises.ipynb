{
 "cells": [
  {
   "cell_type": "code",
   "execution_count": 5,
   "metadata": {},
   "outputs": [
    {
     "name": "stdout",
     "output_type": "stream",
     "text": [
      "SUCCESS!\n"
     ]
    }
   ],
   "source": [
    "# Fill in the TODOs in this exercise, then run\n",
    "# python 01_scalar.py to see if your solution works!\n",
    "#\n",
    "import numpy as np\n",
    "import theano as T\n",
    "from theano import function\n",
    "\n",
    "def make_scalar():\n",
    "    \"\"\"\n",
    "    Returns a new Theano scalar.\n",
    "    \"\"\"\n",
    "\n",
    "    return T.tensor.scalar('my_scal')\n",
    "\n",
    "def log(x):\n",
    "    \"\"\"\n",
    "    Returns the logarithm of a Theano scalar x.\n",
    "    \"\"\"\n",
    "\n",
    "    return T.tensor.log(x)\n",
    "\n",
    "def add(x, y):\n",
    "    \"\"\"\n",
    "    Adds two theano scalars together and returns the result.\n",
    "    \"\"\"\n",
    "\n",
    "    return x+y\n",
    "\n",
    "if __name__ == \"__main__\":\n",
    "    a = make_scalar()\n",
    "    b = make_scalar()\n",
    "    c = log(b)\n",
    "    d = add(a, c)\n",
    "    f = function([a, b], d)\n",
    "    a = np.cast[a.dtype](1.)\n",
    "    b = np.cast[b.dtype](2.)\n",
    "    actual = f(a,b)\n",
    "    expected = 1. + np.log(2.)\n",
    "    assert np.allclose(actual, expected)\n",
    "    print(\"SUCCESS!\")\n"
   ]
  }
 ],
 "metadata": {
  "kernelspec": {
   "display_name": "Python 3",
   "language": "python",
   "name": "python3"
  },
  "language_info": {
   "codemirror_mode": {
    "name": "ipython",
    "version": 3
   },
   "file_extension": ".py",
   "mimetype": "text/x-python",
   "name": "python",
   "nbconvert_exporter": "python",
   "pygments_lexer": "ipython3",
   "version": "3.7.4"
  }
 },
 "nbformat": 4,
 "nbformat_minor": 4
}
