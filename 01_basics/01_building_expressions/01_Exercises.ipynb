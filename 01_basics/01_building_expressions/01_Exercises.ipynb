{
 "cells": [
  {
   "cell_type": "code",
   "execution_count": 5,
   "metadata": {
    "scrolled": true
   },
   "outputs": [
    {
     "name": "stdout",
     "output_type": "stream",
     "text": [
      "SUCCESS!\n"
     ]
    }
   ],
   "source": [
    "# Fill in the TODOs in this exercise, then run\n",
    "# python 01_scalar.py to see if your solution works!\n",
    "#\n",
    "import numpy as np\n",
    "import theano as T\n",
    "from theano import function\n",
    "\n",
    "def make_scalar():\n",
    "    \"\"\"\n",
    "    Returns a new Theano scalar.\n",
    "    \"\"\"\n",
    "\n",
    "    return T.tensor.scalar('my_scal')\n",
    "\n",
    "def log(x):\n",
    "    \"\"\"\n",
    "    Returns the logarithm of a Theano scalar x.\n",
    "    \"\"\"\n",
    "\n",
    "    return T.tensor.log(x)\n",
    "\n",
    "def add(x, y):\n",
    "    \"\"\"\n",
    "    Adds two theano scalars together and returns the result.\n",
    "    \"\"\"\n",
    "\n",
    "    return x+y\n",
    "\n",
    "if __name__ == \"__main__\":\n",
    "    a = make_scalar()\n",
    "    b = make_scalar()\n",
    "    c = log(b)\n",
    "    d = add(a, c)\n",
    "    f = function([a, b], d)\n",
    "    a = np.cast[a.dtype](1.)\n",
    "    b = np.cast[b.dtype](2.)\n",
    "    actual = f(a,b)\n",
    "    expected = 1. + np.log(2.)\n",
    "    assert np.allclose(actual, expected)\n",
    "    print(\"SUCCESS!\")\n"
   ]
  },
  {
   "cell_type": "code",
   "execution_count": 7,
   "metadata": {
    "scrolled": true
   },
   "outputs": [
    {
     "name": "stdout",
     "output_type": "stream",
     "text": [
      "SUCCESS!\n"
     ]
    }
   ],
   "source": [
    "# Fill in the TODOs in this exercise, then run\n",
    "# python 02_vector_mat.py to see if your solution works!\n",
    "#\n",
    "import numpy as np\n",
    "from theano import function\n",
    "from theano import tensor as T\n",
    "\n",
    "\n",
    "def make_vector():\n",
    "    \"\"\"\n",
    "    Returns a new Theano vector.\n",
    "    \"\"\"\n",
    "\n",
    "    return  T.vector()\n",
    "\n",
    "def make_matrix():\n",
    "    \"\"\"\n",
    "    Returns a new Theano matrix.\n",
    "    \"\"\"\n",
    "\n",
    "    return T.fmatrix()\n",
    "\n",
    "def elemwise_mul(a, b):\n",
    "    \"\"\"\n",
    "    a: A theano matrix\n",
    "    b: A theano matrix\n",
    "    Returns the elementwise product of a and b\n",
    "    \"\"\"\n",
    "\n",
    "    return a*b\n",
    "\n",
    "def matrix_vector_mul(a, b):\n",
    "    \"\"\"\n",
    "    a: A theano matrix\n",
    "    b: A theano vector\n",
    "    Returns the matrix-vector product of a and b\n",
    "    \"\"\"\n",
    "    return T.dot(a,b)\n",
    "    \n",
    "\n",
    "if __name__ == \"__main__\":\n",
    "    a = make_vector()\n",
    "    b = make_vector()\n",
    "    c = elemwise_mul(a, b)\n",
    "    d = make_matrix()\n",
    "    e = matrix_vector_mul(d, c)\n",
    "\n",
    "    f = function([a, b, d], e)\n",
    "\n",
    "    rng = np.random.RandomState([1, 2, 3])\n",
    "    a_value = rng.randn(5).astype(a.dtype)\n",
    "    b_value = rng.rand(5).astype(b.dtype)\n",
    "    c_value = a_value * b_value\n",
    "    d_value = rng.randn(5, 5).astype(d.dtype)\n",
    "    expected = np.dot(d_value, c_value)\n",
    "\n",
    "    actual = f(a_value, b_value, d_value)\n",
    "\n",
    "    assert np.allclose(actual, expected)\n",
    "    print(\"SUCCESS!\")\n"
   ]
  }
 ],
 "metadata": {
  "kernelspec": {
   "display_name": "Python 3",
   "language": "python",
   "name": "python3"
  },
  "language_info": {
   "codemirror_mode": {
    "name": "ipython",
    "version": 3
   },
   "file_extension": ".py",
   "mimetype": "text/x-python",
   "name": "python",
   "nbconvert_exporter": "python",
   "pygments_lexer": "ipython3",
   "version": "3.7.4"
  }
 },
 "nbformat": 4,
 "nbformat_minor": 4
}
